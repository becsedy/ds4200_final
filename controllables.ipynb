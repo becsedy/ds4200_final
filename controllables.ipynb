{
 "cells": [
  {
   "cell_type": "code",
   "execution_count": 1,
   "metadata": {},
   "outputs": [
    {
     "data": {
      "text/plain": [
       "DataTransformerRegistry.enable('default')"
      ]
     },
     "execution_count": 1,
     "metadata": {},
     "output_type": "execute_result"
    }
   ],
   "source": [
    "import pandas as pd\n",
    "import altair as alt\n",
    "from functools import reduce\n",
    "from sklearn.model_selection import train_test_split\n",
    "import numpy as np\n",
    "from sklearn.metrics.pairwise import cosine_similarity\n",
    "from sklearn.preprocessing import StandardScaler\n",
    "import networkx as nx\n",
    "import matplotlib.pyplot as plt\n",
    "import matplotlib.patches as mpatches\n",
    "\n",
    "alt.data_transformers.disable_max_rows()"
   ]
  },
  {
   "cell_type": "code",
   "execution_count": 2,
   "metadata": {},
   "outputs": [],
   "source": [
    "# data selection\n",
    "df_raw = pd.read_csv('data.csv')\n",
    "df = df_raw.copy()"
   ]
  },
  {
   "cell_type": "code",
   "execution_count": 3,
   "metadata": {},
   "outputs": [],
   "source": [
    "# data translation\n",
    "color_dict = {0: 'blue', 1: 'orange', 2: 'red'}\n",
    "diabetes = {0: 'No Diabetes', 1: 'Pre-Diabetes', 2: 'Diabetes'}\n",
    "\n",
    "education = {\n",
    "    x + 1 : 'High School or Less' for x in range(4)\n",
    "}\n",
    "education[5] = 'Some College'\n",
    "education[6] = 'Bachelor\\'s or Higher'\n",
    "\n",
    "age_brackets = {x: f'{15 + 5 * x}-{19 + 5 * x}' for x in range(2, 13)}\n",
    "age_brackets[1] = '18-24'\n",
    "age_brackets[13] = '80+'\n",
    "\n",
    "binary = {0: 'No', 1: 'Yes'}\n",
    "\n",
    "df['AgeBkt'] = df['Age'].apply(lambda x: age_brackets[int(x)])\n",
    "df['Diabetes'] = df['Diabetes_012'].apply(lambda x: diabetes[x])\n",
    "df['Education Level'] = df['Education'].apply(lambda x: education[x])\n",
    "df['Fruits and Veggies'] = df['Fruits'].astype(int) & df['Veggies'].astype(int)\n",
    "df['Healthcare'] = df['AnyHealthcare'].apply(lambda x: binary[x])\n",
    "df['Exercise'] = df['PhysActivity'].apply(lambda x: binary[x])\n",
    "df['Heavy Drinking'] = df['HvyAlcoholConsump'].apply(lambda x: binary[x])\n",
    "\n",
    "for col in ['Fruits and Veggies', 'Smoker']:\n",
    "    df[col] = df[col].apply(lambda x: binary[x])"
   ]
  },
  {
   "cell_type": "code",
   "execution_count": 4,
   "metadata": {},
   "outputs": [],
   "source": [
    "controllable = ['Smoker', 'Exercise', 'Fruits and Veggies',\n",
    "                'Heavy Drinking', 'Healthcare', 'Education Level']\n",
    "output = ['Diabetes']"
   ]
  },
  {
   "cell_type": "code",
   "execution_count": null,
   "metadata": {},
   "outputs": [],
   "source": [
    "# Create Altair selection widgets\n",
    "dropdowns = [\n",
    "    alt.binding_select(options=df[feature].unique().tolist(), name=f'{feature}: ')\n",
    "    for feature in controllable\n",
    "]\n",
    "\n",
    "selects = [\n",
    "    alt.selection_point(\n",
    "        fields=[feature], bind=dropdowns[i], value=df[feature].unique()[0]\n",
    "    )\n",
    "    for i, feature in enumerate(controllable)\n",
    "]\n",
    "\n",
    "# Combine all selections\n",
    "combined_filter = reduce(lambda x, y: x & y, selects)\n",
    "\n",
    "# Create chart directly from raw data\n",
    "chart = alt.Chart(df).transform_filter(\n",
    "    combined_filter\n",
    ").transform_aggregate(\n",
    "    count='count()', groupby=['AgeBkt', 'Diabetes']\n",
    ").transform_joinaggregate(\n",
    "    total='sum(count)', groupby=['AgeBkt']\n",
    ").transform_calculate(\n",
    "    Proportion='datum.count / datum.total'\n",
    ").mark_bar().encode(\n",
    "    x=alt.X('AgeBkt:O', title='Age Bucket'),\n",
    "    y=alt.Y('Proportion:Q', stack='normalize', title='Proportion of Diabetes Diagnosis'),\n",
    "    color=alt.Color(\n",
    "        'Diabetes:N', scale=alt.Scale(domain=diabetes.values(), range=color_dict.values()),\n",
    "        title='Diabetes Classification'),\n",
    "    tooltip=['AgeBkt:O', 'Diabetes:N', 'Proportion:Q']\n",
    ").add_params(\n",
    "    *selects\n",
    ").properties(\n",
    "    width=600,\n",
    "    height=400,\n",
    "    title='Proportion of Diabetes Levels by Age Bucket'\n",
    ")\n",
    "\n",
    "chart.display()\n"
   ]
  },
  {
   "cell_type": "code",
   "execution_count": 6,
   "metadata": {},
   "outputs": [],
   "source": [
    "df_raw = df_raw[\n",
    "    ['Smoker', 'Fruits', 'Veggies', 'AnyHealthcare',\n",
    "     'HvyAlcoholConsump', 'Education', 'Diabetes_012']\n",
    "]\n",
    "\n",
    "df_stratified, _ = train_test_split(\n",
    "    df_raw,\n",
    "    stratify=df_raw['Diabetes_012'],\n",
    "    train_size=1000,\n",
    ")"
   ]
  },
  {
   "cell_type": "code",
   "execution_count": 7,
   "metadata": {},
   "outputs": [],
   "source": [
    "def create_matrix(df, output_column='Diabetes_012'):\n",
    "    features = df.drop(columns=[output_column])\n",
    "    labels = df[output_column].reset_index(drop=True)\n",
    "\n",
    "    scaler = StandardScaler()\n",
    "    features = scaler.fit_transform(features)\n",
    "\n",
    "    similarity_matrix = cosine_similarity(features)\n",
    "    np.fill_diagonal(similarity_matrix, -1)\n",
    "\n",
    "    return similarity_matrix, labels"
   ]
  },
  {
   "cell_type": "code",
   "execution_count": 8,
   "metadata": {},
   "outputs": [],
   "source": [
    "legend_handles = [\n",
    "    mpatches.Patch(color='blue', label='No Diabetes'),\n",
    "    mpatches.Patch(color='orange', label='Pre-diabetes'),\n",
    "    mpatches.Patch(color='red', label='Diabetes')\n",
    "]"
   ]
  },
  {
   "cell_type": "code",
   "execution_count": 9,
   "metadata": {},
   "outputs": [],
   "source": [
    "def create_network(matrix, labels):\n",
    "    G = nx.Graph()\n",
    "\n",
    "    for i, status in enumerate(labels):\n",
    "        G.add_node(i, diabetes=status)\n",
    "\n",
    "    for i in range(matrix.shape[0]):\n",
    "        most_similar_idx = np.argmax(matrix[i])\n",
    "        G.add_edge(i, most_similar_idx, weight=matrix[i, most_similar_idx])\n",
    "\n",
    "    plt.figure(figsize=(7, 7))\n",
    "    pos = nx.spring_layout(G)\n",
    "\n",
    "    colors = [color_dict[int(G.nodes[n]['diabetes'])] for n in G.nodes]\n",
    "\n",
    "    nx.draw(\n",
    "        G, pos,\n",
    "        node_color=colors,\n",
    "        with_labels=False,\n",
    "        node_size=5,\n",
    "        edge_color='grey',\n",
    "        alpha=0.4\n",
    "    )\n",
    "\n",
    "    plt.legend(handles=legend_handles, loc='upper right')"
   ]
  },
  {
   "cell_type": "code",
   "execution_count": null,
   "metadata": {},
   "outputs": [],
   "source": [
    "strat_mat, strat_labels = create_matrix(df_stratified)\n",
    "create_network(strat_mat, strat_labels)\n",
    "plt.title('Patient Similarity Network (Stratified) (n=1000)')\n",
    "plt.show()"
   ]
  }
 ],
 "metadata": {
  "kernelspec": {
   "display_name": "Python 3",
   "language": "python",
   "name": "python3"
  },
  "language_info": {
   "codemirror_mode": {
    "name": "ipython",
    "version": 3
   },
   "file_extension": ".py",
   "mimetype": "text/x-python",
   "name": "python",
   "nbconvert_exporter": "python",
   "pygments_lexer": "ipython3",
   "version": "3.10.0"
  }
 },
 "nbformat": 4,
 "nbformat_minor": 2
}
